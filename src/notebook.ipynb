{
 "cells": [
  {
   "attachments": {},
   "cell_type": "markdown",
   "metadata": {},
   "source": [
    "## Step 1️: Set up your OpenAI or Azure OpenAI Service key"
   ]
  },
  {
   "cell_type": "code",
   "execution_count": null,
   "metadata": {
    "dotnet_interactive": {
     "language": "csharp"
    },
    "polyglot_notebook": {
     "kernelName": "csharp"
    }
   },
   "outputs": [],
   "source": [
    "#!import ../config/Settings.cs\n",
    "\n",
    "bool useAzureOpenAI = false;\n",
    "\n",
    "await Settings.AskAzureEndpoint(useAzureOpenAI);\n",
    "await Settings.AskModel(useAzureOpenAI);\n",
    "await Settings.AskApiKey(useAzureOpenAI);"
   ]
  },
  {
   "attachments": {},
   "cell_type": "markdown",
   "metadata": {},
   "source": [
    "## Step 2: Instantiating a kernel"
   ]
  },
  {
   "cell_type": "code",
   "execution_count": null,
   "metadata": {
    "dotnet_interactive": {
     "language": "csharp"
    },
    "polyglot_notebook": {
     "kernelName": "csharp"
    }
   },
   "outputs": [],
   "source": [
    "#r \"nuget: Microsoft.SemanticKernel, 0.9.61.1-preview\"\n",
    "\n",
    "#!import ../config/Settings.cs\n",
    "\n",
    "using Microsoft.SemanticKernel;\n",
    "using Microsoft.SemanticKernel.KernelExtensions;\n",
    "using System.IO;\n",
    "using Microsoft.SemanticKernel.Configuration;\n",
    "using Microsoft.SemanticKernel.SemanticFunctions;\n",
    "\n",
    "IKernel kernel = Microsoft.SemanticKernel.Kernel.Builder.Build();\n",
    "\n",
    "// Grab the locally stored credentials from the settings.json file. Name the \"backend\" as \"davinci\" — assuming that you're using one of the davinci completion models. \n",
    "\n",
    "var (useAzureOpenAI, model, azureEndpoint, apiKey, orgId) = Settings.LoadFromFile();\n",
    "\n",
    "if (useAzureOpenAI)\n",
    "    kernel.Config.AddAzureOpenAITextCompletion(\"davinci\", model, azureEndpoint, apiKey);\n",
    "else\n",
    "    kernel.Config.AddOpenAITextCompletion(\"davinci\", model, apiKey, orgId);"
   ]
  },
  {
   "attachments": {},
   "cell_type": "markdown",
   "metadata": {},
   "source": [
    "## Step 3: Running our code"
   ]
  },
  {
   "cell_type": "code",
   "execution_count": null,
   "metadata": {
    "dotnet_interactive": {
     "language": "csharp"
    },
    "polyglot_notebook": {
     "kernelName": "csharp"
    }
   },
   "outputs": [],
   "source": [
    "using Microsoft.SemanticKernel.Orchestration;\n",
    "using Microsoft.DotNet.Interactive;\n",
    "using System;\n",
    "using System.Net.Http;\n",
    "using System.Threading.Tasks;\n",
    "using System.Collections.Generic;\n",
    "using Newtonsoft.Json;\n",
    "\n",
    "// Setting Http Client\n",
    "HttpClient client = new HttpClient();\n",
    "client.DefaultRequestHeaders.Accept.Clear();\n",
    "client.DefaultRequestHeaders.Accept.Add(\n",
    "new System.Net.Http.Headers.MediaTypeWithQualityHeaderValue(\"application/json\"));\n",
    "\n",
    "// retrieve Customer data\n",
    "var response = await client.GetAsync(\"https://sk-api-backend.azurewebsites.net/api/customer/getInsuranceCustomers\");\n",
    "var customerData = await response.Content.ReadAsStringAsync();\n",
    "\n",
    "// retrieve certification data\n",
    "response = await client.GetAsync(\"https://sk-api-backend.azurewebsites.net/api/customer/getDrivingCertificates\");\n",
    "var certificationData = await response.Content.ReadAsStringAsync();\n",
    "\n",
    "// Load the Skills Directory\n",
    "var skillsDirectory = Path.Combine(System.IO.Directory.GetCurrentDirectory(), \"skills\");\n",
    "\n",
    "// Load the ChatSkill from the Skills Directory\n",
    "var mySkill = kernel.ImportSemanticSkillFromDirectory(skillsDirectory, \"ChatSkill\");\n",
    "\n",
    "\n",
    "var myInput = await Microsoft.DotNet.Interactive.Kernel.GetInputAsync();\n",
    "var CustInfo = new ContextVariables();\n",
    "CustInfo.Set(\"customerData\", customerData.ToString());\n",
    "CustInfo.Set(\"certificationData\", certificationData.ToString());\n",
    "CustInfo.Set(\"input\", myInput.ToString());\n",
    "CustInfo.Set(\"history\", \"\");\n",
    "\n",
    "// Run the Function called Joke with the default parameter of $input\n",
    "int maxLimit = 20;\n",
    "int currentInteraction = 0;\n",
    "while(currentInteraction < maxLimit) {\n",
    "  var result = await kernel.RunAsync(CustInfo, mySkill[\"Chat\"]);\n",
    "  Console.WriteLine(result);\n",
    "  \n",
    "  var historychat = \"me: \" + myInput + \"\\n AI: \" + result;\n",
    "  CustInfo.Set(\"history\", historychat);\n",
    "  myInput = await Microsoft.DotNet.Interactive.Kernel.GetInputAsync();\n",
    "  CustInfo.Set(\"input\", myInput.ToString());\n",
    "  currentInteraction++;\n",
    "}"
   ]
  }
 ],
 "metadata": {
  "kernelspec": {
   "display_name": ".NET (C#)",
   "language": "C#",
   "name": ".net-csharp"
  },
  "language_info": {
   "name": "polyglot-notebook"
  },
  "polyglot_notebook": {
   "kernelInfo": {
    "defaultKernelName": "csharp",
    "items": [
     {
      "aliases": [],
      "languageName": "csharp",
      "name": "csharp"
     }
    ]
   }
  }
 },
 "nbformat": 4,
 "nbformat_minor": 2
}
